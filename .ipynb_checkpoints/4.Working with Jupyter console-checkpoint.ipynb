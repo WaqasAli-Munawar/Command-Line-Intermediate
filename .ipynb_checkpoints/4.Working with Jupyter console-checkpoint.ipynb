{
 "cells": [
  {
   "cell_type": "markdown",
   "metadata": {},
   "source": [
    "The [Jupyter console](https://github.com/jupyter/jupyter_console), formerly known as IPython, is an enhanced Python interpreter. We know, by typing python on the command line, we will get access to an interactive shell that lets us write and execute Python code. Jupyter console enhances this shell, and adds several niceties that make working with data easier.\n",
    "\n",
    "Generally, it's useful to use the shell in situations where we need to quickly test some code we're writing. This happens frequently when we're writing data analysis scripts. It can also be used to quickly explore datasets and do basic analysis. Another use case is prototyping code before later saving it to a script file."
   ]
  },
  {
   "cell_type": "markdown",
   "metadata": {},
   "source": [
    "The main difference between Jupyter console and Jupyter notebook is that the console functions in interactive mode. Whenever we type a line of code, it is immediately executed, and we can see the results. If we want to write medium-length pieces of code, do deep exploration of a dataset to tell a story, the notebook is better. If we want to test out code we're writing, or run quick commands, the console is better.\n",
    "\n",
    "The Jupyter project is in the midst of rebranding from IPython to Jupyter. Depending on the version of Jupyter we have installed, we can access the console by typing either jupyter console or ipython at the command line."
   ]
  },
  {
   "cell_type": "markdown",
   "metadata": {},
   "source": [
    "##### Task\n",
    "\n",
    "1. Open the Jupyter console by typing ipython.\n",
    "2. run Python commands. Type print(10).\n",
    "3. Exit Jupyter console by typing exit."
   ]
  },
  {
   "cell_type": "markdown",
   "metadata": {},
   "source": [
    "Jupyter console has a robust built-in help system. We can get help in several ways:\n",
    "\n",
    "1. We can type **?** after starting the console. This will display help about Jupyter. We can exit by typing q.\n",
    "2. We can type **%quickref**. This is a magic that will tell us some useful commands.\n",
    "3. If we want information about a variable, just type the name of the variable, followed by **?**.\n",
    "4. Type help() to get access to Python help. This will enable us to get help on all the modules and functions currently available. We can quit by typing **quit**.\n",
    "5. If we want to use the Python help system to get information on a variable, type help(variable_name). \n"
   ]
  },
  {
   "cell_type": "markdown",
   "metadata": {},
   "source": [
    "#### Task\n",
    "\n",
    "1. Open the Jupyter console by typing ipython.\n",
    "2. Assign the value 5 to the variable **sdt**.\n",
    "3. Get help with the variable dq using both ? and help(sdt).\n",
    "4. Type help(), and explore the Python help functionality. See if we can look up some modules.\n",
    "5. Exit Jupyter console by typing exit."
   ]
  },
  {
   "cell_type": "markdown",
   "metadata": {},
   "source": [
    "Just like with Jupyter notebook, Jupyter console starts a kernel session when we first load it. Every time we run code in the console, the variables are stored in the session. Any subsequent lines we execute can access those variables.\n",
    "\n",
    "This functionality is extremely powerful, and allows us to execute longer scripts line by line and inspect the variables at each step."
   ]
  },
  {
   "cell_type": "markdown",
   "metadata": {},
   "source": [
    "### Task\n",
    "\n",
    "1. Assign the value sdt * 10 to the variable sdt_10."
   ]
  },
  {
   "cell_type": "markdown",
   "metadata": {},
   "source": [
    "# Jupyter magic  \n",
    "\n",
    "Magics are special Jupyter commands that always start with %. They enable us to access Jupyter-specific functionality, without Python executing our commands.\n",
    "\n",
    "Some useful magics are:\n",
    "\n",
    "* %run -- allows us to run an external Python script. Any variables in the script will be stored in the current kernel session.\n",
    "* %edit -- opens a file editor. Any code we type into the editor will be executed by Jupyter when we exit the editor.\n",
    "* %debug -- if there's an error in any of our code, running %debug afterwards will open an interactive debugger we can use to trace the error.\n",
    "* %history -- shows us the last few commands we ran.\n",
    "* %save -- saves the last few commands we ran to a file.\n",
    "* %who -- print all the variables in the session.\n",
    "* %reset -- resets the session, and removes all stored variables.\n",
    "\n",
    "We can see a full list of magics [here](https://ipython.readthedocs.io/en/stable/interactive/magics.html)."
   ]
  },
  {
   "cell_type": "markdown",
   "metadata": {},
   "source": [
    "Question\n",
    "\n",
    "1. Create a Python script using nano.\n",
    "2. Add at least one print statement, and at least one variable definition.\n",
    "3. Open the Jupyter console by typing ipython.\n",
    "4. Use the %run magic to run the file we created.\n",
    "5. Use the %who magic to verify that the variable you defined exists.\n",
    "6. Exit Jupyter console by typing exit.\n",
    "\n",
    "Answer:\n",
    "\n",
    "1. echo -e \"print(7)\\nname='waqas'\" > nano.py\n",
    "2. ipython\n",
    "3. %run nano.py\n",
    "4. %who nano.py\n",
    "5. exit"
   ]
  },
  {
   "cell_type": "markdown",
   "metadata": {},
   "source": [
    "If we hit the TAB key while typing a variable name, Jupyter will show us all the possible variables it could be, or auto-complete the name if there's only a single option. If we hit TAB after typing a variable name, Jupyter will show us the methods on the variable.\n",
    "\n",
    "Autocompletion makes it much quicker to write code, and can also enable us to discover new methods on variables."
   ]
  },
  {
   "cell_type": "markdown",
   "metadata": {},
   "source": [
    "We can run shell commands in Jupyter console. Just prefix our shell commands with an exclamation point(!). Running !ls in Jupyter will show the contents of the current directory.\n",
    "\n",
    "This can be useful when we want to quickly inspect a file or check on the contents of a folder."
   ]
  },
  {
   "cell_type": "markdown",
   "metadata": {},
   "source": [
    "### Task\n",
    "\n",
    "1. Open the Jupyter console by typing ipython.\n",
    "2. Make a subdirectory with !mkdir. Name the directory anything we want.\n",
    "3. Create a file using !touch. Name the file anything we want.\n",
    "4. Check the contents of the current directory with !ls.\n",
    "5. Exit Jupyter console by typing exit."
   ]
  },
  {
   "cell_type": "markdown",
   "metadata": {},
   "source": [
    "We'll often want to paste code into Jupyter console to see if it runs properly. Because of how Python handles indentation, nested for loops, functions, and if statements will fail if we just copy and paste them in.\n",
    "\n",
    "In order to paste in code with indents, we'll need to use paste magics:\n",
    "\n",
    "* %cpaste -- opens a special editing area where we can paste in code normally, without whitespace being a problem. We can type -- alone on a line to exit. After we exit, any code we pasted in will be immediately executed.\n",
    "* %paste -- takes code from our clipboard and runs it in Jupyter. This won't work on a remote system where Jupyter doesn't have access to our clipboard."
   ]
  },
  {
   "cell_type": "markdown",
   "metadata": {},
   "source": [
    "#### Task\n",
    "\n",
    "* Copy the code below:\n",
    "\n",
    "for i in range(10):\n",
    "\n",
    "    if i < 5:\n",
    "    \n",
    "        print(i)\n",
    "        \n",
    "    else:\n",
    "    \n",
    "        print(i * 2)\n",
    "        \n",
    "* Open the Jupyter console by typing ipython.\n",
    "* Enter the special pasting area using %cpaste.\n",
    "* Paste in the above code by pressing Ctrl + A followed by Ctrl + V.\n",
    "* Type two hypens (-) to exit the pasting area.\n",
    "* Exit Jupyter console by typing exit."
   ]
  },
  {
   "cell_type": "code",
   "execution_count": null,
   "metadata": {},
   "outputs": [],
   "source": []
  },
  {
   "cell_type": "code",
   "execution_count": null,
   "metadata": {},
   "outputs": [],
   "source": []
  }
 ],
 "metadata": {
  "kernelspec": {
   "display_name": "Python 3",
   "language": "python",
   "name": "python3"
  },
  "language_info": {
   "codemirror_mode": {
    "name": "ipython",
    "version": 3
   },
   "file_extension": ".py",
   "mimetype": "text/x-python",
   "name": "python",
   "nbconvert_exporter": "python",
   "pygments_lexer": "ipython3",
   "version": "3.7.3"
  }
 },
 "nbformat": 4,
 "nbformat_minor": 2
}
