{
 "cells": [
  {
   "attachments": {
    "image.png": {
     "image/png": "[encoded data removed]"
    }
   },
   "cell_type": "markdown",
   "metadata": {},
   "source": [
    "The interpreter lets us run Python commands and see their results immediately. It's very useful for quickly testing snippets of code, as well as debugging. But it's not a good way to develop Python programs, because the commands aren't saved anywhere.\n",
    "\n",
    "In order to develop Python programs, we'll need to make files containing Python code. Then we'll be able to use the interpreter to run them from the command line. This way, we can save all of our commands, but still see what's happening.\n",
    "\n",
    "This is a very common way to develop with Python -- use an IDE or text editor to create Python files, then run them from the command line.\n",
    "\n",
    "We can make a file that Python can execute on the command line by adding some lines of Python code to a blank file. Here's an example of Python code:\n",
    "\n",
    "![image.png](attachment:image.png)\n",
    "\n",
    "The code above will print Welcome to a Python script when we run it from the command line. To run it, we just need to put those lines into a file, save the file as file.py, and then call it with python file.py.\n",
    "\n",
    "This code works because the __name__ variable in Python scripts is automatically set to the name of the module. If the module is being run from the command line, the __name__ variable will be __main__ by default. Checking the __name__ variable allows us to tell whether a script is running from the command line or not."
   ]
  },
  {
   "cell_type": "markdown",
   "metadata": {},
   "source": [
    "Question:\n",
    "\n",
    "1. Create a file called script.py that contains the following code:\n",
    "\n",
    "**if __name__ == \"__main__\":**\n",
    "\n",
    "    print(\"Welcome to a Python script\")\n",
    "    \n",
    "2. Finally, save the file and run it using python script.py   "
   ]
  },
  {
   "cell_type": "markdown",
   "metadata": {},
   "source": [
    "There are actually two versions of Python. We ran the last script using the default python executable, which is Python version 2. We'll want to use Python 3 instead, which we can access with the python3 executable."
   ]
  },
  {
   "cell_type": "markdown",
   "metadata": {},
   "source": [
    "# Pacakages\n",
    "\n",
    "Packages are an important way to extend Python's functionality. We've worked with packages like matplotlib and pandas. The best way to install packages is to use the command line and a program called pip. The newest versions of Python include pip by default, so installing Python will automatically give us access to pip.\n",
    "\n",
    "In order to install a package with pip, we just use pip install. **pip install requests** will install the requests package, which developers use to interact with websites and APIs."
   ]
  },
  {
   "cell_type": "markdown",
   "metadata": {},
   "source": [
    "Question:\n",
    "\n",
    "1. Type pip install requests to install the requests package.\n",
    "\n",
    "2. The requests library is already installed, so we'll see a message indicating that."
   ]
  },
  {
   "cell_type": "markdown",
   "metadata": {},
   "source": [
    "We used the default version of pip to install requests for the python executable, which is Python version 2.\n",
    "\n",
    "What if we had wanted to install requests for Python 3 instead? Different projects can require different packages and Python versions. This type of version switching can become confusing.\n",
    "\n",
    "For this reason, a computer system has one python executable, and we have to install all packages and libraries globally. This means that every single project on a machine has to use the same version of Python, and the same version of every package.\n",
    "\n",
    "By default, we can't use different versions of Python without some hacks. One such hack is renaming python to python3 so we can have access to both Python 2 and Python 3.\n",
    "\n",
    "A better solution is for each project we write to have its own version of Python, along with its own packages. This way, we don't need to worry that upgrading the version of a package will affect other projects on the system and cause them to stop working."
   ]
  },
  {
   "cell_type": "markdown",
   "metadata": {},
   "source": [
    "**Virtual environments**, or virtualenvs, let us do this. We can create a new virtualenv with the virtualenv command. While we normally have to install the virtualenv package first in order to access this command.\n",
    "\n",
    "We can install virtual environment as below\n",
    "\n",
    "**pip install virtualenv**\n",
    "\n",
    "Typing **virtualenv main** will create a virtualenv named main. It will create a folder in the current directory called **main** that will hold all of the packages we install into the virtual environment."
   ]
  },
  {
   "cell_type": "markdown",
   "metadata": {},
   "source": [
    "Question:\n",
    "\n",
    "1. Type virtualenv python2 to create a new virtual environmented named python2.\n",
    "\n",
    "2. Note how it makes a folder called python2."
   ]
  },
  {
   "cell_type": "markdown",
   "metadata": {},
   "source": [
    "By default, virtualenv will use the python executable when it makes a new virtualenv, which means that it has the same version of Python as the system. In this case, we want to use python3 for our virtualenv instead. In order to do this, we pass the -p flag to the virtualenv command, which will allow us to change the Python interpreter that virtualenv uses.\n",
    "\n",
    "In this case, we can type virtualenv -p /usr/bin/python3 python3 to use Python 3 instead of Python 2."
   ]
  },
  {
   "cell_type": "markdown",
   "metadata": {},
   "source": [
    "Question:\n",
    "    \n",
    "1. run virtualenv -p python3 python3"
   ]
  },
  {
   "cell_type": "markdown",
   "metadata": {},
   "source": [
    "Once we've created a virtualenv, we can activate it using **source python3/bin/activate** (this assumes that the virtualenv is called python3, and that the folder for the virtualenv is in our current directory).\n",
    "\n",
    "Once we activate a virtualenv, the Python version and packages installed in it will become the default Python version and packages that run when we type python."
   ]
  },
  {
   "cell_type": "markdown",
   "metadata": {},
   "source": [
    "Question:\n",
    "    \n",
    "1. Activate the python3 virtualenv.\n",
    "\n",
    "Answer:\n",
    "\n",
    "1. source python3/bin/activate"
   ]
  },
  {
   "cell_type": "markdown",
   "metadata": {},
   "source": [
    "We can find out which version of Python we're using with python -V. We can also look up which packages are currently installed (along with their versions) with pip freeze. If we activate a virtualenv, all of the packages, including pip, will be from the virtualenv instead of the main system Python executable."
   ]
  },
  {
   "cell_type": "markdown",
   "metadata": {},
   "source": [
    "### Import functions from a package \n",
    "\n",
    "One of the great things about Python is that we can import functions from a package into a file. We can also import functions and classes from one file into another file. This gives us a powerful way to structure larger projects without having to put everything into one file.\n",
    "\n",
    "We'll experiment with this style of import by writing a function in a file, and then importing it into another file.\n",
    "\n",
    "If there's a file named utils.py, we can import it into another file in the same directory using import utils. All of the functions and classes defined in utils.py will then be available using dot notation. If there's a function called keep_time() in utils.py, we can access it with utils.keep_time() after importing it."
   ]
  },
  {
   "cell_type": "raw",
   "metadata": {},
   "source": [
    "Question:\n",
    "  \n",
    "1. Create a file called utils.py that contains the following code:\n",
    "\n",
    "def print_message():\n",
    "    print(\"Hello from another file!\")\n",
    "    \n",
    "2. Modify the original script.py file to contain this code instead:\n",
    "\n",
    "import utils\n",
    "\n",
    "if __name__ == \"__main__\":\n",
    "    utils.print_message()\n",
    "    \n",
    "3. Finally, run python script.py to print out the message."
   ]
  },
  {
   "cell_type": "markdown",
   "metadata": {},
   "source": [
    "We can also pass command line options into Python scripts. We can retrieve them from inside the script through the sys package.\n",
    "\n",
    "Once we import the **sys package**, the **argv** list will allow us to retrieve the positional arguments passed into the script. They're the arguments that come after the command name. **python script.py 82** is one example. The first positional argument is script.py, and the second is 82."
   ]
  },
  {
   "attachments": {
    "image.png": {
     "image/png": "[encoded data removed]"
    }
   },
   "cell_type": "markdown",
   "metadata": {},
   "source": [
    "The following code will read input from the command line and print it back out. If the code is in a file named script.py, we'd call python script.py \"Hello from the command line\" to pass in the text we want to display.\n",
    "\n",
    "![image.png](attachment:image.png)\n",
    "\n",
    "Notice that we printed the second item in the argv list (sys.argv[1]). This is because the arguments come after the python command, so the first argument is the name of the file we want to run. The second argument is the actual text that we want to print."
   ]
  },
  {
   "cell_type": "markdown",
   "metadata": {},
   "source": [
    "Question:\n",
    "\n",
    "* Modify script.py to accept and print a command line argument.\n",
    "* Then, call the script and pass in \"Hello from the command line\".\n",
    "\n",
    "Answer:\n",
    "\n",
    "* echo -e 'import sys\\n\\nif __name__ == \"__main__\":\\n    print(sys.argv[1])' > script.py\n",
    "* python script.py \"Hello from the command line\""
   ]
  },
  {
   "cell_type": "markdown",
   "metadata": {},
   "source": [
    "To switch a virtualenv off so we can move to a different project, we deactivate it with the deactivate command. This command will automatically shut down the current virtualenv, so we don't need to pass in its name."
   ]
  },
  {
   "cell_type": "markdown",
   "metadata": {},
   "source": [
    "Question:\n",
    "\n",
    "Deactivate the virtualenv.\n",
    "\n",
    "Answer:\n",
    "\n",
    "deactivate"
   ]
  },
  {
   "cell_type": "code",
   "execution_count": null,
   "metadata": {},
   "outputs": [],
   "source": []
  }
 ],
 "metadata": {
  "kernelspec": {
   "display_name": "Python 3",
   "language": "python",
   "name": "python3"
  },
  "language_info": {
   "codemirror_mode": {
    "name": "ipython",
    "version": 3
   },
   "file_extension": ".py",
   "mimetype": "text/x-python",
   "name": "python",
   "nbconvert_exporter": "python",
   "pygments_lexer": "ipython3",
   "version": "3.7.3"
  }
 },
 "nbformat": 4,
 "nbformat_minor": 2
}
