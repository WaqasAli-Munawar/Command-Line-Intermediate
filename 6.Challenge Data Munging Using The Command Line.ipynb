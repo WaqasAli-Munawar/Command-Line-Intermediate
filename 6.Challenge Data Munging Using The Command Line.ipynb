{
 "cells": [
  {
   "cell_type": "markdown",
   "metadata": {},
   "source": [
    "In this file, we'll practice the command line concepts we've learned so far by munging datasets using just the command line. [Data munging](https://en.wikipedia.org/wiki/Data_wrangling) involves transforming datasets to make them easier to work with.\n",
    "\n",
    "Some datasets are too large to load into Python, so looking at them or transforming them beforehand can be useful. Even for smaller datasets, simple exploration on the command line is faster than exploration in Python, and file-based tasks like unifying datasets can be faster on the command line."
   ]
  },
  {
   "cell_type": "markdown",
   "metadata": {},
   "source": [
    "We'll be interacting with datasets on U.S. housing affordability from the [U.S. Department of Housing & Urban Development](http://www.huduser.org/portal/datasets/hads/hads.html). To start things off, let's explore the datasets in the first few steps."
   ]
  },
  {
   "cell_type": "markdown",
   "metadata": {},
   "source": [
    "Question:\n",
    "\n",
    "Use the head command to display the first 10 rows of each of the 3 CSV files.\n",
    "\n",
    "Answer:\n",
    "\n",
    "1. head Hud_2005.csv\n",
    "2. head Hud_2007.csv\n",
    "3. head Hud_2013.csv\n",
    "\n",
    "or\n",
    "\n",
    "head *.csv"
   ]
  },
  {
   "cell_type": "markdown",
   "metadata": {},
   "source": [
    "The goal is to eventually get this into a Pandas Dataframe so let's combine the datasets into one file so it can be read in easily. Since each dataset contains the same columns, we need to combine the datasets into one file. We can't, however, just append the full contents of each file to one final file since each dataset contains the header row. The consolidated file should only contain the header row once (in the first row). We need to instead append the header row to the consolidated file once, then append only the non-header rows from the 3 datasets to the consolidated file.\n",
    "\n",
    "Since the header row is always the first row in each of the datasets, we can just select all rows after the header row. We can use the command wc along with the l flag to return the number of lines for a specified file. We can use each file's line count combined with the tail command to return the last n lines of a file."
   ]
  },
  {
   "cell_type": "markdown",
   "metadata": {},
   "source": [
    "Question:\n",
    "    \n",
    "1. Create the file combined_hud.csv and append the header row from one of the datasets.\n",
    "2. Select all non-header rows from Hud_2005.csv and append to combined_hud.csv.\n",
    "3. Display the first 10 rows in combined_hud.csv to verify our work.\n",
    "\n",
    "Answer:\n",
    "\n",
    "1. head -1 Hud_2005.csv > combined_hud.csv\n",
    "2. wc -l Hud_2005.csv\n",
    "3. tail -46853 Hud_2005.csv >> combined_hud.csv\n",
    "4. head combined_hud.csv\n",
    "\n",
    "or\n",
    "\n",
    "1. head -n 1 Hud_2005.csv > combined_hud.csv\n",
    "2. tail -n +2 Hud_2005.csv >> combined_hud.csv\n",
    "3. head combined_hud.csv"
   ]
  },
  {
   "cell_type": "markdown",
   "metadata": {},
   "source": [
    "Question:\n",
    "\n",
    "Append the remaining datasets in the order of the years they describe.\n",
    "\n",
    "Answer:\n",
    "\n",
    "1. wc -l Hud_2007.csv\n",
    "2. tail -42729 Hud_2007.csv >> combined_hud.csv\n",
    "3. wc -l Hud_2013.csv\n",
    "4. tail -64535 Hud_2013.csv >> combined_hud.csv\n",
    "\n",
    "or \n",
    "\n",
    "1. tail -n +2 Hud_2007.csv >> combined_hud.csv\n",
    "2. tail -n +2 Hud_2013.csv >> combined_hud.csv"
   ]
  },
  {
   "cell_type": "markdown",
   "metadata": {},
   "source": [
    "Question:\n",
    "\n",
    "Count and display the number of lines in combined_hud.csv containing 1980-1989.\n",
    "\n",
    "Answer:\n",
    "\n",
    "grep '1980-1989' combined_hud.csv | wc -l"
   ]
  },
  {
   "cell_type": "code",
   "execution_count": null,
   "metadata": {},
   "outputs": [],
   "source": []
  }
 ],
 "metadata": {
  "kernelspec": {
   "display_name": "Python 3",
   "language": "python",
   "name": "python3"
  },
  "language_info": {
   "codemirror_mode": {
    "name": "ipython",
    "version": 3
   },
   "file_extension": ".py",
   "mimetype": "text/x-python",
   "name": "python",
   "nbconvert_exporter": "python",
   "pygments_lexer": "ipython3",
   "version": "3.7.3"
  }
 },
 "nbformat": 4,
 "nbformat_minor": 2
}
