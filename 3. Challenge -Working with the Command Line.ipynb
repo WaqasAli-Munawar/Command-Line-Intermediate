{
 "cells": [
  {
   "cell_type": "markdown",
   "metadata": {},
   "source": [
    "Question:\n",
    "\n",
    "1. Change out of the current directory, then back in.\n",
    "2. Print the path of the current folder to the standard output.\n",
    "\n",
    "Answer:\n",
    "\n",
    "1. cd ..\n",
    "2. cd ~\n",
    "3. pwd"
   ]
  },
  {
   "cell_type": "markdown",
   "metadata": {},
   "source": [
    "Question:\n",
    "\n",
    "1. Create a Python script that takes in a command line argument and prints it out.\n",
    " * Use output redirection or a command line editor to create a Python script called script.py.\n",
    " * Add code to the file that will read the second command line argument we pass in and print it out.\n",
    " \n",
    "Answer:\n",
    "\n",
    "echo -e 'import sys\\n\\nif __name__ == \"__main__\":\\n    print(sys.argv[1])' > script.py"
   ]
  },
  {
   "cell_type": "markdown",
   "metadata": {},
   "source": [
    "Question:\n",
    "    \n",
    "1. Edit the file permissions for script.py so that only the current user can access it.\n",
    " * Assign read, write, and execute permissions to the current user.\n",
    " * Don't assign any permissions to your group, or to other users.\n",
    " \n",
    "Answer:\n",
    "\n",
    "chmod 0700 script.py"
   ]
  },
  {
   "cell_type": "markdown",
   "metadata": {},
   "source": [
    "Question:\n",
    "    \n",
    "1. Create a Python 3 virtualenv called script.\n",
    "2. Activate the script virtualenv.\n",
    "\n",
    "Answer:\n",
    "\n",
    "1. virtualenv -p /usr/bin/python3 script\n",
    "2. source script/bin/activate"
   ]
  },
  {
   "cell_type": "markdown",
   "metadata": {},
   "source": [
    "Question:\n",
    "    \n",
    "1. Create a folder called printer \n",
    "2. Move script.py into the printer folder.\n",
    "\n",
    "Answer:\n",
    "    \n",
    "1. mkdir printer\n",
    "2. mv script.py printer"
   ]
  },
  {
   "cell_type": "markdown",
   "metadata": {},
   "source": [
    "Question\n",
    "\n",
    "1. Change the current directory to the printer directory.\n",
    "2. Execute script.py, and pass in the string I'm so good at challenges!.\n",
    "\n",
    "Answer\n",
    "\n",
    "1. cd printer\n",
    "2. python script.py \"I'm so good at challenges!\""
   ]
  },
  {
   "cell_type": "code",
   "execution_count": null,
   "metadata": {},
   "outputs": [],
   "source": []
  }
 ],
 "metadata": {
  "kernelspec": {
   "display_name": "Python 3",
   "language": "python",
   "name": "python3"
  },
  "language_info": {
   "codemirror_mode": {
    "name": "ipython",
    "version": 3
   },
   "file_extension": ".py",
   "mimetype": "text/x-python",
   "name": "python",
   "nbconvert_exporter": "python",
   "pygments_lexer": "ipython3",
   "version": "3.7.3"
  }
 },
 "nbformat": 4,
 "nbformat_minor": 2
}
