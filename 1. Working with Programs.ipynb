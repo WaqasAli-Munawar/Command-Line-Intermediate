{
 "cells": [
  {
   "cell_type": "markdown",
   "metadata": {},
   "source": [
    "One of the meanings of the acronym CLI is \"Command Language Interpreter\".\n",
    "\n",
    "A [command language](https://en.wikipedia.org/wiki/Command_language) is a special kind of programming language through which we can control applications and the system as a whole. Just like Python and other programming languages, we can use Bash to create scripts, set variables, and more. Because it's a language, Bash is far more powerful than a graphical shell."
   ]
  },
  {
   "attachments": {
    "image.png": {
     "image/png": "[encoded data removed]"
    }
   },
   "cell_type": "markdown",
   "metadata": {},
   "source": [
    "For example, we can set variables on the command line by assigning values to them. In the command line environment, variables consist entirely of uppercase characters, numbers, and underscores. We can assign any data type to a variable. Here are a few examples of how we can set variables on the command line:\n",
    "\n",
    "![image.png](attachment:image.png)"
   ]
  },
  {
   "attachments": {
    "image.png": {
     "image/png": "[encoded data removed]"
    }
   },
   "cell_type": "markdown",
   "metadata": {},
   "source": [
    "Both of the variables above, OS and OPERATING_SYSTEM, will actually end up with the same value. That's because quotes are optional when using strings in Bash, unless the string contains a space. Bash is sensitive to spaces, so strings that have them won't work properly if we don't surround them with quotes.\n",
    "\n",
    "This assignment won't work, for example:\n",
    "\n",
    "![image.png](attachment:image.png)"
   ]
  },
  {
   "attachments": {
    "image.png": {
     "image/png": "[encoded data removed]"
    }
   },
   "cell_type": "markdown",
   "metadata": {},
   "source": [
    "This one will:\n",
    "\n",
    "![image.png](attachment:image.png)"
   ]
  },
  {
   "attachments": {
    "image.png": {
     "image/png": "[encoded data removed]"
    }
   },
   "cell_type": "markdown",
   "metadata": {},
   "source": [
    "It's also important to avoid adding stray spaces around the equals sign. For example, this assignment will fail:\n",
    "\n",
    "![image.png](attachment:image.png)"
   ]
  },
  {
   "cell_type": "markdown",
   "metadata": {},
   "source": [
    "In Bash, we can access the value of a variable again after we set it, just like we can with other programming languages like Python. There's one major difference, though -- we need to add a dollar sign to the beginning of the variable name when we try to retrieve its value.\n",
    "\n",
    "If we create a variable named FOOD with the value Shrimp gumbo, for example, we'll need to use $FOOD when we want to access the value again later. This is because typing FOOD at the command prompt will attempt to call the command FOOD. It will return an error, because there's no executable command named FOOD in PATH.  PATH is a dynamic-named value specifying a set of directories where executable programs are located."
   ]
  },
  {
   "cell_type": "markdown",
   "metadata": {},
   "source": [
    "Another difference between Python variables and Bash variables is that when we type $FOOD at the command prompt, it will resolve to the value of the variable, or Shrimp gumbo. By default, Bash will try to turn this value into a command named Shrimp, and then call it. Because there's no executable named Shrimp in PATH, this will generate an error.\n",
    "\n",
    "If we want to see the value of a variable named FOOD, we'll need to type echo $FOOD. This will become echo \"Shrimp gumbo\", which will print Shrimp gumbo to stdout."
   ]
  },
  {
   "cell_type": "markdown",
   "metadata": {},
   "source": [
    "So far, we've been creating shell variables. We can only access these variables within the Bash shell.\n",
    "\n",
    "Another type of variable is an [environment variable](https://en.wikipedia.org/wiki/Environment_variable). We can access these through any program we run from the shell.\n",
    "\n",
    "We can create environment variables using the export command. For example, **export FOOD=\"Chicken and waffles\"** will create an environment variable called FOOD."
   ]
  },
  {
   "attachments": {
    "image.png": {
     "image/png": "[encoded data removed]"
    }
   },
   "cell_type": "markdown",
   "metadata": {},
   "source": [
    "We can run many programs from Bash, including Python. To run the Python interpreter from the Bash shell, we type python at the command prompt.\n",
    "\n",
    "Once we're inside the command prompt, we can access the environment variables with commands that look like this:\n",
    "\n",
    "![image.png](attachment:image.png)"
   ]
  },
  {
   "cell_type": "markdown",
   "metadata": {},
   "source": [
    "First, we imported the os [package](https://docs.python.org/3.5/library/os.html), which is built into the Python standard library. It contains many useful functions for working with the operating system.\n",
    "\n",
    "Then, we used os.environ, a dictionary containing all of the values for the environment variables. We can access any environment variable by specifying it as a key, just like we can with any Python dictionary.\n",
    "\n",
    "This should give us a feel for the power of environment variables -- we can use them to set configuration in Python scripts and other places. This functionality is useful when configuration is secret (like with access keys), or changing rapidly."
   ]
  },
  {
   "cell_type": "markdown",
   "metadata": {},
   "source": [
    "Question:\n",
    "\n",
    "* Type python to fire up the Python interpreter.\n",
    "\n",
    "* Run the following code in the interpreter:\n",
    "\n",
    " * import os\n",
    " * print(os.environ[\"FOOD\"])\n",
    "* When we're done, type exit() to exit the interpreter.\n",
    "* Finally, type echo $FOOD to verify that the value of the FOOD variable is the same in Python and the shell."
   ]
  },
  {
   "cell_type": "markdown",
   "metadata": {},
   "source": [
    "We accessed Python by typing python in the shell. We can run many programs this way. There's nothing special about a program -- it's just a file somewhere on the system.\n",
    "\n",
    "We can access any program by typing its full path. The full path for Python, which itself is a program, is /usr/bin/python."
   ]
  },
  {
   "cell_type": "markdown",
   "metadata": {},
   "source": [
    "We typed /usr/bin/python to access the Python interpreter. If the Python interpreter is at that location, though, how come we can also access it by typing python?\n",
    "\n",
    "We can do this because of the PATH environment variable, which is configured to point to several folders (creating a \"shortcut\"). We can run any program in any one of these folders just by typing the program's name. Because /usr/bin is one of the folders in PATH and python is in that folder, we can access the python interpreter just by typing python, instead of the full path. If we did not have a PATH variable, we would have to type in the absolute path to run python every time\n",
    "\n",
    "Earlier, we discussed how to create environment variables. We can re-create an environment variable called PATH and append our new directory. For example, export PATH=\"/usr/bin:$PATH\"will allow us to type in the name of any executable inside /usr/bin at any time without typing the absolute path in order to execute the file."
   ]
  },
  {
   "cell_type": "markdown",
   "metadata": {},
   "source": [
    "Question:\n",
    "    \n",
    "Type echo $PATH to see what folders are in PATH."
   ]
  },
  {
   "cell_type": "markdown",
   "metadata": {},
   "source": [
    "Some of the programs we've been running have arguments, and some don't. When we type echo `$`FOOD, we're passing in the value of the `$`FOOD variable as a positional argument to the echo program. This is similar to a function in Python, which has positional and keyword arguments. Programs can have any number of positional arguments, including zero. python is an example of a program that doesn't require any positional arguments.\n",
    "\n",
    "The copy command (cp) is an example of a command with two positional arguments -- we need to pass in the file name, as well as the path we want to copy it to.\n",
    "\n",
    "Programs can also have optional flags. These are like keyword arguments in Python, which modify program behavior. For example, if we pass the -l flag ( for \"long mode\") to ls (the \"list\" command), the command will list the files in the directory in long mode, meaning that it will show more information about them."
   ]
  },
  {
   "cell_type": "markdown",
   "metadata": {},
   "source": [
    "We'll often want to specify multiple flags. Most flags have short, single-character names, as well as longer versions of those names. See the ls manual page for a closer look at this.\n",
    "\n",
    "For example, ls -a, and ls --all do the same thing. They'll both list all of the files in a directory, rather than hiding files that begin with a dot (.). The commands are equivalent.\n",
    "\n",
    "When we have multiple flags with short, single-character names, we can chain them together to save time. ls -la will list all of the files in long format; it's equivalent to ls -a -l. The order of the l and the a doesn't matter. While experienced programmers do this all the time, it can be a bit confusing to parse at first."
   ]
  },
  {
   "cell_type": "markdown",
   "metadata": {},
   "source": [
    "We can specify longer flags with two dashes. One such longer flag for ls is --ignore. Using **ls --ignore=test.txt** won't include any files named test.txt in the output of ls."
   ]
  },
  {
   "cell_type": "markdown",
   "metadata": {},
   "source": [
    "Question:\n",
    "\n",
    "run;\n",
    "\n",
    "ls -al --ignore=.ipython"
   ]
  },
  {
   "cell_type": "code",
   "execution_count": null,
   "metadata": {},
   "outputs": [],
   "source": []
  }
 ],
 "metadata": {
  "kernelspec": {
   "display_name": "Python 3",
   "language": "python",
   "name": "python3"
  },
  "language_info": {
   "codemirror_mode": {
    "name": "ipython",
    "version": 3
   },
   "file_extension": ".py",
   "mimetype": "text/x-python",
   "name": "python",
   "nbconvert_exporter": "python",
   "pygments_lexer": "ipython3",
   "version": "3.7.3"
  }
 },
 "nbformat": 4,
 "nbformat_minor": 2
}
